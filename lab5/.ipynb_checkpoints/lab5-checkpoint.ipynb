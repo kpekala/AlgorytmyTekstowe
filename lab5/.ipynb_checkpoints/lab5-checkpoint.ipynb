{
 "cells": [
  {
   "cell_type": "markdown",
   "metadata": {},
   "source": [
    "# Algorytmy tekstowe - lab 5"
   ]
  },
  {
   "cell_type": "markdown",
   "metadata": {},
   "source": [
    "## Implementacja metryk"
   ]
  },
  {
   "cell_type": "markdown",
   "metadata": {},
   "source": [
    "### Metryka lcs"
   ]
  },
  {
   "cell_type": "code",
   "execution_count": 25,
   "metadata": {},
   "outputs": [],
   "source": [
    "def lcs(x,y):\n",
    "    m, n = len(x), len(y)\n",
    "    d = [[0 for j in range(n+1)] for i in range(m+1)]\n",
    "    res = 0\n",
    "    for i in range(1,m + 1):\n",
    "        for j in range(1,n + 1):\n",
    "            if x[i-1] == y[j-1]:\n",
    "                d[i][j] = d[i-1][j-1] + 1\n",
    "                res = max(res, d[i][j])\n",
    "    return res\n",
    "\n",
    "def lcs_metrics(x, y):\n",
    "    return 1 - lcs(x,y) / max(len(x), len(y))\n",
    "    "
   ]
  },
  {
   "cell_type": "code",
   "execution_count": 28,
   "metadata": {},
   "outputs": [
    {
     "data": {
      "text/plain": [
       "6"
      ]
     },
     "execution_count": 28,
     "metadata": {},
     "output_type": "execute_result"
    }
   ],
   "source": [
    "lcs(\"asafasfasf\", \"asfasfas\")"
   ]
  },
  {
   "cell_type": "code",
   "execution_count": 29,
   "metadata": {},
   "outputs": [
    {
     "data": {
      "text/plain": [
       "0.4"
      ]
     },
     "execution_count": 29,
     "metadata": {},
     "output_type": "execute_result"
    }
   ],
   "source": [
    "lcs_metrics(\"asafasfasf\", \"asfasfas\")"
   ]
  },
  {
   "cell_type": "markdown",
   "metadata": {},
   "source": [
    "### Metryki Ngramowe"
   ]
  },
  {
   "cell_type": "code",
   "execution_count": 38,
   "metadata": {},
   "outputs": [
    {
     "ename": "SyntaxError",
     "evalue": "unexpected EOF while parsing (<ipython-input-38-142054281da8>, line 13)",
     "output_type": "error",
     "traceback": [
      "\u001b[1;36m  File \u001b[1;32m\"<ipython-input-38-142054281da8>\"\u001b[1;36m, line \u001b[1;32m13\u001b[0m\n\u001b[1;33m    \u001b[0m\n\u001b[1;37m    ^\u001b[0m\n\u001b[1;31mSyntaxError\u001b[0m\u001b[1;31m:\u001b[0m unexpected EOF while parsing\n"
     ]
    }
   ],
   "source": [
    "def ngrams(x, n):\n",
    "    res = set()\n",
    "    for i in range(len(x) - (n-1)):\n",
    "        res.add(x[i:i+n])\n",
    "    return res\n",
    "\n",
    "def ngrams_vec(x, )\n",
    "\n",
    "def dice(x, y, n):\n",
    "    xgrams = ngrams(x, n)\n",
    "    ygrams = ngrams(y, n)\n",
    "    return 1 - 2 * len(xgrams & ygrams) / (len(xgrams) + len(ygrams))\n",
    "\n",
    "def cosine(x,y,n):\n",
    "    return 1 - ()\n",
    "    "
   ]
  },
  {
   "cell_type": "code",
   "execution_count": 33,
   "metadata": {},
   "outputs": [
    {
     "name": "stdout",
     "output_type": "stream",
     "text": [
      "{'iczy', 'koni', 'zyna', 'nicz', 'czyn', 'onic'}\n"
     ]
    }
   ],
   "source": [
    "print(ngrams(\"koniczyna\",4))"
   ]
  },
  {
   "cell_type": "code",
   "execution_count": 37,
   "metadata": {},
   "outputs": [
    {
     "data": {
      "text/plain": [
       "0.4545454545454546"
      ]
     },
     "execution_count": 37,
     "metadata": {},
     "output_type": "execute_result"
    }
   ],
   "source": [
    "dice(\"koniczyna\", \"koni\", 2)"
   ]
  }
 ],
 "metadata": {
  "kernelspec": {
   "display_name": "Python 3",
   "language": "python",
   "name": "python3"
  },
  "language_info": {
   "codemirror_mode": {
    "name": "ipython",
    "version": 3
   },
   "file_extension": ".py",
   "mimetype": "text/x-python",
   "name": "python",
   "nbconvert_exporter": "python",
   "pygments_lexer": "ipython3",
   "version": "3.8.5"
  }
 },
 "nbformat": 4,
 "nbformat_minor": 4
}
