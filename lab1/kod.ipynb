{
 "cells": [
  {
   "cell_type": "markdown",
   "metadata": {},
   "source": [
    "# Algorytmy tekstowe lab. 1\n",
    "## Konrad Pękala"
   ]
  },
  {
   "cell_type": "markdown",
   "metadata": {},
   "source": [
    "## Implementacja algorytmów"
   ]
  },
  {
   "cell_type": "markdown",
   "metadata": {},
   "source": [
    "#### Notka: kod algorytmów w dużej części pochodzi z prezentacji z wykładu"
   ]
  },
  {
   "cell_type": "markdown",
   "metadata": {},
   "source": [
    "### Algorytm naiwny"
   ]
  },
  {
   "cell_type": "code",
   "execution_count": 1,
   "metadata": {},
   "outputs": [],
   "source": [
    "def naive(text, pattern):\n",
    "    result = 0\n",
    "    for s in range(0, len(text) - len(pattern) + 1):\n",
    "        if pattern == text[s:(s + len(pattern))]:\n",
    "            result += 1\n",
    "            #print(f\"Przesunięcie {s} jest poprawne\")\n",
    "    return result"
   ]
  },
  {
   "cell_type": "markdown",
   "metadata": {},
   "source": [
    "### Metoda automatu skończonego"
   ]
  },
  {
   "cell_type": "code",
   "execution_count": 2,
   "metadata": {},
   "outputs": [],
   "source": [
    "import re, copy\n",
    "\n",
    "alphabet = []\n",
    "\n",
    "def update_alphabet(al):\n",
    "    alphabet.clear()\n",
    "    alphabet.extend(al)\n",
    "\n",
    "def transition_table(pattern, alphabet):\n",
    "    result = []\n",
    "    for q in range(0, len(pattern) + 1):\n",
    "        result.append({})\n",
    "        for a in alphabet:\n",
    "            k = min(len(pattern), q + 1)\n",
    "            while True:\n",
    "                if re.search(f\"{pattern[:k]}$\", pattern[:q] + a):\n",
    "                    break\n",
    "                k -= 1\n",
    "            result[q][a] = k\n",
    "    return result\n",
    "\n",
    "\n",
    "## Głowny algorytm\n",
    "def fsm(text, pattern):\n",
    "    tr_table = transition_table(pattern, alphabet)\n",
    "    q = 0\n",
    "    result = 0\n",
    "    for s in range(0, len(text)):\n",
    "        q = tr_table[q][text[s]]\n",
    "        if q == len(tr_table) - 1:\n",
    "            result += 1\n",
    "            #print(f\"Przesunięcie {s + 1 - q} jest poprawne\")\n",
    "    return result"
   ]
  },
  {
   "cell_type": "markdown",
   "metadata": {},
   "source": [
    "### Algorytm Knutha-Morrisa-Pratta"
   ]
  },
  {
   "cell_type": "code",
   "execution_count": 3,
   "metadata": {},
   "outputs": [],
   "source": [
    "def kmp(text, pattern):\n",
    "    result = 0\n",
    "    pi = prefix_function(pattern)\n",
    "    q = 0\n",
    "    for i in range(0, len(text)):\n",
    "        while q > 0 and pattern[q] != text[i]:\n",
    "            q = pi[q - 1]\n",
    "        if pattern[q] == text[i]:\n",
    "            q = q + 1\n",
    "        if q == len(pattern):\n",
    "            result += 1\n",
    "            # print(f\"Przesunięcie {i + 1 - q} jest poprawne\")\n",
    "            q = pi[q - 1]\n",
    "    return result\n",
    "\n",
    "\n",
    "def prefix_function(pattern):\n",
    "    pi = [0]\n",
    "    k = 0\n",
    "    for q in range(1, len(pattern)):\n",
    "        while k > 0 and pattern[k] != pattern[q]:\n",
    "            k = pi[k - 1]\n",
    "        if pattern[k] == pattern[q]:\n",
    "            k = k + 1\n",
    "        pi.append(k)\n",
    "    return pi\n"
   ]
  },
  {
   "cell_type": "markdown",
   "metadata": {},
   "source": [
    "### Prosta funkcja testująca liczbę znalezionych wzorców"
   ]
  },
  {
   "cell_type": "code",
   "execution_count": 4,
   "metadata": {},
   "outputs": [],
   "source": [
    "def run_simple_test(text, pattern):\n",
    "    methods = [naive, fsm, kmp]\n",
    "    for method in methods:\n",
    "        print('{name} algorithm found {result} matches'.format(name=method.__name__, result = method(text,pattern)))"
   ]
  },
  {
   "cell_type": "markdown",
   "metadata": {},
   "source": [
    "### Przykładowe działanie"
   ]
  },
  {
   "cell_type": "code",
   "execution_count": 5,
   "metadata": {},
   "outputs": [
    {
     "name": "stdout",
     "output_type": "stream",
     "text": [
      "naive algorithm found 3 matches\n",
      "fsm algorithm found 3 matches\n",
      "kmp algorithm found 3 matches\n"
     ]
    }
   ],
   "source": [
    "text = \"abba bba baobab babobab\"\n",
    "pattern = \"bab\"\n",
    "#nie zapomnijmy zaktualizować alfabetu\n",
    "update_alphabet(['a','b','o', ' '])\n",
    "run_simple_test(text, pattern)"
   ]
  },
  {
   "cell_type": "markdown",
   "metadata": {},
   "source": [
    "## Funkcje do testowania czasu działania algorytmów"
   ]
  },
  {
   "cell_type": "code",
   "execution_count": 6,
   "metadata": {},
   "outputs": [],
   "source": [
    "import time\n",
    "def speed_test(method, text, pattern):\n",
    "    start_time = time.time()\n",
    "    method(text, pattern)\n",
    "    return time.time() - start_time\n",
    "\n",
    "def min_time_test(method, text, pattern, n=10):\n",
    "    min_time = min([speed_test(method,text,pattern) for _ in range(n)])\n",
    "    return round(min_time,5)\n",
    "\n",
    "def avg_time_test(method, text, pattern, n=10):\n",
    "    time_sum = sum([speed_test(method,text,pattern) for _ in range(n)])\n",
    "    return round(time_sum / n,5)\n",
    "\n",
    "def run_time_test(text, pattern):\n",
    "    methods = [naive, fsm, kmp]\n",
    "    for method in methods:\n",
    "        avg_time = min_time_test(method, text, pattern)\n",
    "        print('{name} algorithm takes {avg_time} seconds to run'.format(name = method.__name__, avg_time = avg_time))"
   ]
  },
  {
   "cell_type": "code",
   "execution_count": 7,
   "metadata": {},
   "outputs": [
    {
     "name": "stdout",
     "output_type": "stream",
     "text": [
      "naive algorithm takes 0.0 seconds to run\n",
      "fsm algorithm takes 0.0 seconds to run\n",
      "kmp algorithm takes 0.0 seconds to run\n"
     ]
    }
   ],
   "source": [
    "text = \"abba bba baobab babobab\"\n",
    "pattern = \"bab\"\n",
    "#nie zapomnijmy zaktualizować alfabetu\n",
    "update_alphabet(['a','b','o', ' '])\n",
    "run_time_test(text, pattern)"
   ]
  },
  {
   "cell_type": "markdown",
   "metadata": {},
   "source": [
    "## Znajdowanie wszystkich wystąpień wzorca \"art\" w załączonej ustawie"
   ]
  },
  {
   "cell_type": "code",
   "execution_count": 8,
   "metadata": {},
   "outputs": [],
   "source": [
    "import io\n",
    "def read_alphabet(text):\n",
    "    result = []\n",
    "    for c in text:\n",
    "        if c not in result:\n",
    "            result.append(c)\n",
    "    return result\n",
    "\n",
    "\n",
    "def file_text(text_name):\n",
    "    return io.open(text_name, mode=\"r\", encoding=\"utf-8\").read()\n",
    "\n",
    "def run_article_test():\n",
    "    text = file_text(\"ustawa.txt\")\n",
    "    pattern = \"art\"\n",
    "    alphabet = read_alphabet(text)\n",
    "    update_alphabet(alphabet)\n",
    "    run_simple_test(text, pattern)\n",
    "    run_time_test(text, pattern)\n"
   ]
  },
  {
   "cell_type": "code",
   "execution_count": 9,
   "metadata": {},
   "outputs": [
    {
     "name": "stdout",
     "output_type": "stream",
     "text": [
      "naive algorithm found 273 matches\n",
      "fsm algorithm found 273 matches\n",
      "kmp algorithm found 273 matches\n",
      "naive algorithm takes 0.04601 seconds to run\n",
      "fsm algorithm takes 0.04101 seconds to run\n",
      "kmp algorithm takes 0.04001 seconds to run\n"
     ]
    }
   ],
   "source": [
    "run_article_test()"
   ]
  },
  {
   "cell_type": "markdown",
   "metadata": {},
   "source": [
    "### Wniosek: Algorytm naiwny jest  nieco wolniejszy od dwóch pozostałych"
   ]
  }
 ],
 "metadata": {
  "kernelspec": {
   "display_name": "Python 3",
   "language": "python",
   "name": "python3"
  },
  "language_info": {
   "codemirror_mode": {
    "name": "ipython",
    "version": 3
   },
   "file_extension": ".py",
   "mimetype": "text/x-python",
   "name": "python",
   "nbconvert_exporter": "python",
   "pygments_lexer": "ipython3",
   "version": "3.8.5"
  }
 },
 "nbformat": 4,
 "nbformat_minor": 4
}
